{
 "cells": [
  {
   "cell_type": "code",
   "execution_count": 1,
   "metadata": {
    "collapsed": true
   },
   "outputs": [],
   "source": [
    "import pandas as pdlist(d.keys())"
   ]
  },
  {
   "cell_type": "code",
   "execution_count": 10,
   "metadata": {
    "collapsed": true
   },
   "outputs": [],
   "source": [
    "import pandas as pd\n",
    "import json\n",
    "import os\n",
    "\n",
    "# Reading the json as a dict\n",
    "with open('train2018.json') as json_data:\n",
    "    data = json.load(json_data)"
   ]
  },
  {
   "cell_type": "code",
   "execution_count": 12,
   "metadata": {},
   "outputs": [
    {
     "data": {
      "text/plain": [
       "[u'info', u'images', u'licenses', u'annotations', u'categories']"
      ]
     },
     "execution_count": 12,
     "metadata": {},
     "output_type": "execute_result"
    }
   ],
   "source": [
    "list(data.keys())"
   ]
  },
  {
   "cell_type": "code",
   "execution_count": 26,
   "metadata": {},
   "outputs": [],
   "source": [
    "images_df = pd.DataFrame.from_dict(data[\"images\"])\n",
    "train.reset_index(level=0, inplace=True)"
   ]
  },
  {
   "cell_type": "code",
   "execution_count": 27,
   "metadata": {},
   "outputs": [
    {
     "data": {
      "text/html": [
       "<div>\n",
       "<style>\n",
       "    .dataframe thead tr:only-child th {\n",
       "        text-align: right;\n",
       "    }\n",
       "\n",
       "    .dataframe thead th {\n",
       "        text-align: left;\n",
       "    }\n",
       "\n",
       "    .dataframe tbody tr th {\n",
       "        vertical-align: top;\n",
       "    }\n",
       "</style>\n",
       "<table border=\"1\" class=\"dataframe\">\n",
       "  <thead>\n",
       "    <tr style=\"text-align: right;\">\n",
       "      <th></th>\n",
       "      <th>file_name</th>\n",
       "      <th>height</th>\n",
       "      <th>id</th>\n",
       "      <th>license</th>\n",
       "      <th>rights_holder</th>\n",
       "      <th>width</th>\n",
       "    </tr>\n",
       "  </thead>\n",
       "  <tbody>\n",
       "    <tr>\n",
       "      <th>0</th>\n",
       "      <td>train_val2018/Plantae/7477/3b60c9486db1d2ee875...</td>\n",
       "      <td>600</td>\n",
       "      <td>1</td>\n",
       "      <td>3</td>\n",
       "      <td>Jonathan Carpenter</td>\n",
       "      <td>800</td>\n",
       "    </tr>\n",
       "    <tr>\n",
       "      <th>1</th>\n",
       "      <td>train_val2018/Aves/2820/22c733d9199c35d2578232...</td>\n",
       "      <td>600</td>\n",
       "      <td>2</td>\n",
       "      <td>3</td>\n",
       "      <td>Marion Zöller</td>\n",
       "      <td>800</td>\n",
       "    </tr>\n",
       "    <tr>\n",
       "      <th>2</th>\n",
       "      <td>train_val2018/Aves/2757/e5641ce8fd794bf149d49f...</td>\n",
       "      <td>640</td>\n",
       "      <td>3</td>\n",
       "      <td>3</td>\n",
       "      <td>phylocode</td>\n",
       "      <td>800</td>\n",
       "    </tr>\n",
       "    <tr>\n",
       "      <th>3</th>\n",
       "      <td>train_val2018/Mammalia/4219/60c8365f55c2f4e790...</td>\n",
       "      <td>533</td>\n",
       "      <td>4</td>\n",
       "      <td>1</td>\n",
       "      <td>J. N. Stuart</td>\n",
       "      <td>800</td>\n",
       "    </tr>\n",
       "    <tr>\n",
       "      <th>4</th>\n",
       "      <td>train_val2018/Aves/3942/872fef47a85beb90efc301...</td>\n",
       "      <td>533</td>\n",
       "      <td>5</td>\n",
       "      <td>3</td>\n",
       "      <td>Alfonso Gutiérrez Aldana</td>\n",
       "      <td>800</td>\n",
       "    </tr>\n",
       "  </tbody>\n",
       "</table>\n",
       "</div>"
      ],
      "text/plain": [
       "                                           file_name  height  id  license  \\\n",
       "0  train_val2018/Plantae/7477/3b60c9486db1d2ee875...     600   1        3   \n",
       "1  train_val2018/Aves/2820/22c733d9199c35d2578232...     600   2        3   \n",
       "2  train_val2018/Aves/2757/e5641ce8fd794bf149d49f...     640   3        3   \n",
       "3  train_val2018/Mammalia/4219/60c8365f55c2f4e790...     533   4        1   \n",
       "4  train_val2018/Aves/3942/872fef47a85beb90efc301...     533   5        3   \n",
       "\n",
       "              rights_holder  width  \n",
       "0        Jonathan Carpenter    800  \n",
       "1             Marion Zöller    800  \n",
       "2                 phylocode    800  \n",
       "3              J. N. Stuart    800  \n",
       "4  Alfonso Gutiérrez Aldana    800  "
      ]
     },
     "execution_count": 27,
     "metadata": {},
     "output_type": "execute_result"
    }
   ],
   "source": [
    "images_df.head()"
   ]
  },
  {
   "cell_type": "code",
   "execution_count": null,
   "metadata": {
    "collapsed": true
   },
   "outputs": [],
   "source": []
  }
 ],
 "metadata": {
  "kernelspec": {
   "display_name": "Python 2",
   "language": "python",
   "name": "python2"
  },
  "language_info": {
   "codemirror_mode": {
    "name": "ipython",
    "version": 2
   },
   "file_extension": ".py",
   "mimetype": "text/x-python",
   "name": "python",
   "nbconvert_exporter": "python",
   "pygments_lexer": "ipython2",
   "version": "2.7.14"
  }
 },
 "nbformat": 4,
 "nbformat_minor": 2
}
